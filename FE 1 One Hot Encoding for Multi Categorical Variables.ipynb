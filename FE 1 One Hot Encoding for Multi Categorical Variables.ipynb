{
 "cells": [
  {
   "cell_type": "code",
   "execution_count": 1,
   "metadata": {},
   "outputs": [],
   "source": [
    "#Handle Categorical Features"
   ]
  },
  {
   "cell_type": "code",
   "execution_count": 2,
   "metadata": {},
   "outputs": [],
   "source": [
    "import pandas as pd\n",
    "import os"
   ]
  },
  {
   "cell_type": "code",
   "execution_count": 3,
   "metadata": {},
   "outputs": [
    {
     "data": {
      "text/plain": [
       "'C:\\\\Users\\\\EARABMO\\\\Desktop\\\\ERICSSON ITEMS\\\\DATA SCIENTIST\\\\PYTHON\\\\.ipynb_checkpoints\\\\Feature Engineering'"
      ]
     },
     "execution_count": 3,
     "metadata": {},
     "output_type": "execute_result"
    }
   ],
   "source": [
    "os.getcwd()"
   ]
  },
  {
   "cell_type": "code",
   "execution_count": 4,
   "metadata": {},
   "outputs": [],
   "source": [
    "df=pd.read_csv(\"train.csv\",usecols=[\"Sex\"])"
   ]
  },
  {
   "cell_type": "code",
   "execution_count": 5,
   "metadata": {},
   "outputs": [
    {
     "data": {
      "text/html": [
       "<div>\n",
       "<style scoped>\n",
       "    .dataframe tbody tr th:only-of-type {\n",
       "        vertical-align: middle;\n",
       "    }\n",
       "\n",
       "    .dataframe tbody tr th {\n",
       "        vertical-align: top;\n",
       "    }\n",
       "\n",
       "    .dataframe thead th {\n",
       "        text-align: right;\n",
       "    }\n",
       "</style>\n",
       "<table border=\"1\" class=\"dataframe\">\n",
       "  <thead>\n",
       "    <tr style=\"text-align: right;\">\n",
       "      <th></th>\n",
       "      <th>Sex</th>\n",
       "    </tr>\n",
       "  </thead>\n",
       "  <tbody>\n",
       "    <tr>\n",
       "      <th>0</th>\n",
       "      <td>male</td>\n",
       "    </tr>\n",
       "    <tr>\n",
       "      <th>1</th>\n",
       "      <td>female</td>\n",
       "    </tr>\n",
       "    <tr>\n",
       "      <th>2</th>\n",
       "      <td>female</td>\n",
       "    </tr>\n",
       "    <tr>\n",
       "      <th>3</th>\n",
       "      <td>female</td>\n",
       "    </tr>\n",
       "    <tr>\n",
       "      <th>4</th>\n",
       "      <td>male</td>\n",
       "    </tr>\n",
       "  </tbody>\n",
       "</table>\n",
       "</div>"
      ],
      "text/plain": [
       "      Sex\n",
       "0    male\n",
       "1  female\n",
       "2  female\n",
       "3  female\n",
       "4    male"
      ]
     },
     "execution_count": 5,
     "metadata": {},
     "output_type": "execute_result"
    }
   ],
   "source": [
    "df.head()"
   ]
  },
  {
   "cell_type": "code",
   "execution_count": 6,
   "metadata": {},
   "outputs": [
    {
     "data": {
      "text/html": [
       "<div>\n",
       "<style scoped>\n",
       "    .dataframe tbody tr th:only-of-type {\n",
       "        vertical-align: middle;\n",
       "    }\n",
       "\n",
       "    .dataframe tbody tr th {\n",
       "        vertical-align: top;\n",
       "    }\n",
       "\n",
       "    .dataframe thead th {\n",
       "        text-align: right;\n",
       "    }\n",
       "</style>\n",
       "<table border=\"1\" class=\"dataframe\">\n",
       "  <thead>\n",
       "    <tr style=\"text-align: right;\">\n",
       "      <th></th>\n",
       "      <th>Sex_male</th>\n",
       "    </tr>\n",
       "  </thead>\n",
       "  <tbody>\n",
       "    <tr>\n",
       "      <th>0</th>\n",
       "      <td>1</td>\n",
       "    </tr>\n",
       "    <tr>\n",
       "      <th>1</th>\n",
       "      <td>0</td>\n",
       "    </tr>\n",
       "    <tr>\n",
       "      <th>2</th>\n",
       "      <td>0</td>\n",
       "    </tr>\n",
       "    <tr>\n",
       "      <th>3</th>\n",
       "      <td>0</td>\n",
       "    </tr>\n",
       "    <tr>\n",
       "      <th>4</th>\n",
       "      <td>1</td>\n",
       "    </tr>\n",
       "    <tr>\n",
       "      <th>...</th>\n",
       "      <td>...</td>\n",
       "    </tr>\n",
       "    <tr>\n",
       "      <th>886</th>\n",
       "      <td>1</td>\n",
       "    </tr>\n",
       "    <tr>\n",
       "      <th>887</th>\n",
       "      <td>0</td>\n",
       "    </tr>\n",
       "    <tr>\n",
       "      <th>888</th>\n",
       "      <td>0</td>\n",
       "    </tr>\n",
       "    <tr>\n",
       "      <th>889</th>\n",
       "      <td>1</td>\n",
       "    </tr>\n",
       "    <tr>\n",
       "      <th>890</th>\n",
       "      <td>1</td>\n",
       "    </tr>\n",
       "  </tbody>\n",
       "</table>\n",
       "<p>891 rows × 1 columns</p>\n",
       "</div>"
      ],
      "text/plain": [
       "     Sex_male\n",
       "0           1\n",
       "1           0\n",
       "2           0\n",
       "3           0\n",
       "4           1\n",
       "..        ...\n",
       "886         1\n",
       "887         0\n",
       "888         0\n",
       "889         1\n",
       "890         1\n",
       "\n",
       "[891 rows x 1 columns]"
      ]
     },
     "execution_count": 6,
     "metadata": {},
     "output_type": "execute_result"
    }
   ],
   "source": [
    "pd.get_dummies(df,drop_first=True)"
   ]
  },
  {
   "cell_type": "code",
   "execution_count": 16,
   "metadata": {},
   "outputs": [],
   "source": [
    "df=pd.read_csv(\"train.csv\",usecols=[\"Embarked\"])"
   ]
  },
  {
   "cell_type": "code",
   "execution_count": 17,
   "metadata": {},
   "outputs": [
    {
     "data": {
      "text/html": [
       "<div>\n",
       "<style scoped>\n",
       "    .dataframe tbody tr th:only-of-type {\n",
       "        vertical-align: middle;\n",
       "    }\n",
       "\n",
       "    .dataframe tbody tr th {\n",
       "        vertical-align: top;\n",
       "    }\n",
       "\n",
       "    .dataframe thead th {\n",
       "        text-align: right;\n",
       "    }\n",
       "</style>\n",
       "<table border=\"1\" class=\"dataframe\">\n",
       "  <thead>\n",
       "    <tr style=\"text-align: right;\">\n",
       "      <th></th>\n",
       "      <th>Embarked</th>\n",
       "    </tr>\n",
       "  </thead>\n",
       "  <tbody>\n",
       "    <tr>\n",
       "      <th>0</th>\n",
       "      <td>S</td>\n",
       "    </tr>\n",
       "    <tr>\n",
       "      <th>1</th>\n",
       "      <td>C</td>\n",
       "    </tr>\n",
       "    <tr>\n",
       "      <th>2</th>\n",
       "      <td>S</td>\n",
       "    </tr>\n",
       "    <tr>\n",
       "      <th>3</th>\n",
       "      <td>S</td>\n",
       "    </tr>\n",
       "    <tr>\n",
       "      <th>4</th>\n",
       "      <td>S</td>\n",
       "    </tr>\n",
       "  </tbody>\n",
       "</table>\n",
       "</div>"
      ],
      "text/plain": [
       "  Embarked\n",
       "0        S\n",
       "1        C\n",
       "2        S\n",
       "3        S\n",
       "4        S"
      ]
     },
     "execution_count": 17,
     "metadata": {},
     "output_type": "execute_result"
    }
   ],
   "source": [
    "df.head()"
   ]
  },
  {
   "cell_type": "code",
   "execution_count": 18,
   "metadata": {},
   "outputs": [
    {
     "data": {
      "text/plain": [
       "array(['S', 'C', 'Q', nan], dtype=object)"
      ]
     },
     "execution_count": 18,
     "metadata": {},
     "output_type": "execute_result"
    }
   ],
   "source": [
    "df['Embarked'].unique()\n"
   ]
  },
  {
   "cell_type": "code",
   "execution_count": 19,
   "metadata": {},
   "outputs": [],
   "source": [
    "df.dropna(inplace=True)"
   ]
  },
  {
   "cell_type": "code",
   "execution_count": 20,
   "metadata": {},
   "outputs": [
    {
     "data": {
      "text/html": [
       "<div>\n",
       "<style scoped>\n",
       "    .dataframe tbody tr th:only-of-type {\n",
       "        vertical-align: middle;\n",
       "    }\n",
       "\n",
       "    .dataframe tbody tr th {\n",
       "        vertical-align: top;\n",
       "    }\n",
       "\n",
       "    .dataframe thead th {\n",
       "        text-align: right;\n",
       "    }\n",
       "</style>\n",
       "<table border=\"1\" class=\"dataframe\">\n",
       "  <thead>\n",
       "    <tr style=\"text-align: right;\">\n",
       "      <th></th>\n",
       "      <th>Embarked_Q</th>\n",
       "      <th>Embarked_S</th>\n",
       "    </tr>\n",
       "  </thead>\n",
       "  <tbody>\n",
       "    <tr>\n",
       "      <th>0</th>\n",
       "      <td>0</td>\n",
       "      <td>1</td>\n",
       "    </tr>\n",
       "    <tr>\n",
       "      <th>1</th>\n",
       "      <td>0</td>\n",
       "      <td>0</td>\n",
       "    </tr>\n",
       "    <tr>\n",
       "      <th>2</th>\n",
       "      <td>0</td>\n",
       "      <td>1</td>\n",
       "    </tr>\n",
       "    <tr>\n",
       "      <th>3</th>\n",
       "      <td>0</td>\n",
       "      <td>1</td>\n",
       "    </tr>\n",
       "    <tr>\n",
       "      <th>4</th>\n",
       "      <td>0</td>\n",
       "      <td>1</td>\n",
       "    </tr>\n",
       "  </tbody>\n",
       "</table>\n",
       "</div>"
      ],
      "text/plain": [
       "   Embarked_Q  Embarked_S\n",
       "0           0           1\n",
       "1           0           0\n",
       "2           0           1\n",
       "3           0           1\n",
       "4           0           1"
      ]
     },
     "execution_count": 20,
     "metadata": {},
     "output_type": "execute_result"
    }
   ],
   "source": [
    "pd.get_dummies(df,drop_first=True).head()"
   ]
  },
  {
   "cell_type": "code",
   "execution_count": 7,
   "metadata": {},
   "outputs": [],
   "source": [
    "##### Onehotencoding with many categories in a feature"
   ]
  },
  {
   "cell_type": "code",
   "execution_count": 8,
   "metadata": {},
   "outputs": [],
   "source": [
    "df=pd.read_csv('mercedesbenz.csv',usecols=[\"X0\",\"X1\",\"X2\",\"X3\",\"X4\",\"X5\",\"X6\"])"
   ]
  },
  {
   "cell_type": "code",
   "execution_count": 9,
   "metadata": {},
   "outputs": [
    {
     "data": {
      "text/html": [
       "<div>\n",
       "<style scoped>\n",
       "    .dataframe tbody tr th:only-of-type {\n",
       "        vertical-align: middle;\n",
       "    }\n",
       "\n",
       "    .dataframe tbody tr th {\n",
       "        vertical-align: top;\n",
       "    }\n",
       "\n",
       "    .dataframe thead th {\n",
       "        text-align: right;\n",
       "    }\n",
       "</style>\n",
       "<table border=\"1\" class=\"dataframe\">\n",
       "  <thead>\n",
       "    <tr style=\"text-align: right;\">\n",
       "      <th></th>\n",
       "      <th>X0</th>\n",
       "      <th>X1</th>\n",
       "      <th>X2</th>\n",
       "      <th>X3</th>\n",
       "      <th>X4</th>\n",
       "      <th>X5</th>\n",
       "      <th>X6</th>\n",
       "    </tr>\n",
       "  </thead>\n",
       "  <tbody>\n",
       "    <tr>\n",
       "      <th>0</th>\n",
       "      <td>k</td>\n",
       "      <td>v</td>\n",
       "      <td>at</td>\n",
       "      <td>a</td>\n",
       "      <td>d</td>\n",
       "      <td>u</td>\n",
       "      <td>j</td>\n",
       "    </tr>\n",
       "    <tr>\n",
       "      <th>1</th>\n",
       "      <td>k</td>\n",
       "      <td>t</td>\n",
       "      <td>av</td>\n",
       "      <td>e</td>\n",
       "      <td>d</td>\n",
       "      <td>y</td>\n",
       "      <td>l</td>\n",
       "    </tr>\n",
       "    <tr>\n",
       "      <th>2</th>\n",
       "      <td>az</td>\n",
       "      <td>w</td>\n",
       "      <td>n</td>\n",
       "      <td>c</td>\n",
       "      <td>d</td>\n",
       "      <td>x</td>\n",
       "      <td>j</td>\n",
       "    </tr>\n",
       "    <tr>\n",
       "      <th>3</th>\n",
       "      <td>az</td>\n",
       "      <td>t</td>\n",
       "      <td>n</td>\n",
       "      <td>f</td>\n",
       "      <td>d</td>\n",
       "      <td>x</td>\n",
       "      <td>l</td>\n",
       "    </tr>\n",
       "    <tr>\n",
       "      <th>4</th>\n",
       "      <td>az</td>\n",
       "      <td>v</td>\n",
       "      <td>n</td>\n",
       "      <td>f</td>\n",
       "      <td>d</td>\n",
       "      <td>h</td>\n",
       "      <td>d</td>\n",
       "    </tr>\n",
       "  </tbody>\n",
       "</table>\n",
       "</div>"
      ],
      "text/plain": [
       "   X0 X1  X2 X3 X4 X5 X6\n",
       "0   k  v  at  a  d  u  j\n",
       "1   k  t  av  e  d  y  l\n",
       "2  az  w   n  c  d  x  j\n",
       "3  az  t   n  f  d  x  l\n",
       "4  az  v   n  f  d  h  d"
      ]
     },
     "execution_count": 9,
     "metadata": {},
     "output_type": "execute_result"
    }
   ],
   "source": [
    "df.head()"
   ]
  },
  {
   "cell_type": "code",
   "execution_count": 32,
   "metadata": {},
   "outputs": [
    {
     "name": "stdout",
     "output_type": "stream",
     "text": [
      "47 Labels\n",
      "27 Labels\n",
      "44 Labels\n",
      "7 Labels\n",
      "4 Labels\n",
      "29 Labels\n",
      "12 Labels\n"
     ]
    }
   ],
   "source": [
    "#lets have a look how many labels of each variables\"\n",
    "\n",
    "for i in df.columns:\n",
    "    print(len(df[i].unique()),\"Labels\")"
   ]
  },
  {
   "cell_type": "code",
   "execution_count": 14,
   "metadata": {},
   "outputs": [],
   "source": [
    "#How many columns will obtain after one hot coding\n",
    "d1=pd.get_dummies(df,drop_first=True).shape"
   ]
  },
  {
   "cell_type": "code",
   "execution_count": 16,
   "metadata": {},
   "outputs": [
    {
     "data": {
      "text/plain": [
       "(4209, 163)"
      ]
     },
     "execution_count": 16,
     "metadata": {},
     "output_type": "execute_result"
    }
   ],
   "source": [
    "d1\n"
   ]
  },
  {
   "cell_type": "code",
   "execution_count": 38,
   "metadata": {},
   "outputs": [
    {
     "data": {
      "text/plain": [
       "(4209, 7)"
      ]
     },
     "execution_count": 38,
     "metadata": {},
     "output_type": "execute_result"
    }
   ],
   "source": [
    "df.shape"
   ]
  },
  {
   "cell_type": "code",
   "execution_count": 41,
   "metadata": {},
   "outputs": [
    {
     "data": {
      "text/plain": [
       "as    1659\n",
       "ae     496\n",
       "ai     415\n",
       "m      367\n",
       "ak     265\n",
       "r      153\n",
       "n      137\n",
       "s       94\n",
       "f       87\n",
       "e       81\n",
       "Name: X2, dtype: int64"
      ]
     },
     "execution_count": 41,
     "metadata": {},
     "output_type": "execute_result"
    }
   ],
   "source": [
    "#TOP 10 most frequent of categorial variables\n",
    "df.X2.value_counts().sort_values(ascending=False).head(10)"
   ]
  },
  {
   "cell_type": "code",
   "execution_count": 27,
   "metadata": {},
   "outputs": [
    {
     "data": {
      "text/plain": [
       "['aa', 's', 'b', 'l', 'v', 'r', 'i', 'a', 'c', 'o']"
      ]
     },
     "execution_count": 27,
     "metadata": {},
     "output_type": "execute_result"
    }
   ],
   "source": [
    "#Creating a list of most frequent variables into the mist\n",
    "lst_10= [x for x in df.X1.value_counts().sort_values(ascending=False).head(10).index]\n",
    "lst_10"
   ]
  },
  {
   "cell_type": "code",
   "execution_count": 26,
   "metadata": {
    "scrolled": true
   },
   "outputs": [
    {
     "data": {
      "text/html": [
       "<div>\n",
       "<style scoped>\n",
       "    .dataframe tbody tr th:only-of-type {\n",
       "        vertical-align: middle;\n",
       "    }\n",
       "\n",
       "    .dataframe tbody tr th {\n",
       "        vertical-align: top;\n",
       "    }\n",
       "\n",
       "    .dataframe thead th {\n",
       "        text-align: right;\n",
       "    }\n",
       "</style>\n",
       "<table border=\"1\" class=\"dataframe\">\n",
       "  <thead>\n",
       "    <tr style=\"text-align: right;\">\n",
       "      <th></th>\n",
       "      <th>X1</th>\n",
       "      <th>aa</th>\n",
       "      <th>s</th>\n",
       "      <th>b</th>\n",
       "      <th>l</th>\n",
       "      <th>v</th>\n",
       "      <th>r</th>\n",
       "      <th>i</th>\n",
       "      <th>a</th>\n",
       "      <th>c</th>\n",
       "      <th>o</th>\n",
       "    </tr>\n",
       "  </thead>\n",
       "  <tbody>\n",
       "    <tr>\n",
       "      <th>0</th>\n",
       "      <td>v</td>\n",
       "      <td>0</td>\n",
       "      <td>0</td>\n",
       "      <td>0</td>\n",
       "      <td>0</td>\n",
       "      <td>1</td>\n",
       "      <td>0</td>\n",
       "      <td>0</td>\n",
       "      <td>0</td>\n",
       "      <td>0</td>\n",
       "      <td>0</td>\n",
       "    </tr>\n",
       "    <tr>\n",
       "      <th>1</th>\n",
       "      <td>t</td>\n",
       "      <td>0</td>\n",
       "      <td>0</td>\n",
       "      <td>0</td>\n",
       "      <td>0</td>\n",
       "      <td>0</td>\n",
       "      <td>0</td>\n",
       "      <td>0</td>\n",
       "      <td>0</td>\n",
       "      <td>0</td>\n",
       "      <td>0</td>\n",
       "    </tr>\n",
       "    <tr>\n",
       "      <th>2</th>\n",
       "      <td>w</td>\n",
       "      <td>0</td>\n",
       "      <td>0</td>\n",
       "      <td>0</td>\n",
       "      <td>0</td>\n",
       "      <td>0</td>\n",
       "      <td>0</td>\n",
       "      <td>0</td>\n",
       "      <td>0</td>\n",
       "      <td>0</td>\n",
       "      <td>0</td>\n",
       "    </tr>\n",
       "    <tr>\n",
       "      <th>3</th>\n",
       "      <td>t</td>\n",
       "      <td>0</td>\n",
       "      <td>0</td>\n",
       "      <td>0</td>\n",
       "      <td>0</td>\n",
       "      <td>0</td>\n",
       "      <td>0</td>\n",
       "      <td>0</td>\n",
       "      <td>0</td>\n",
       "      <td>0</td>\n",
       "      <td>0</td>\n",
       "    </tr>\n",
       "    <tr>\n",
       "      <th>4</th>\n",
       "      <td>v</td>\n",
       "      <td>0</td>\n",
       "      <td>0</td>\n",
       "      <td>0</td>\n",
       "      <td>0</td>\n",
       "      <td>1</td>\n",
       "      <td>0</td>\n",
       "      <td>0</td>\n",
       "      <td>0</td>\n",
       "      <td>0</td>\n",
       "      <td>0</td>\n",
       "    </tr>\n",
       "  </tbody>\n",
       "</table>\n",
       "</div>"
      ],
      "text/plain": [
       "  X1  aa  s  b  l  v  r  i  a  c  o\n",
       "0  v   0  0  0  0  1  0  0  0  0  0\n",
       "1  t   0  0  0  0  0  0  0  0  0  0\n",
       "2  w   0  0  0  0  0  0  0  0  0  0\n",
       "3  t   0  0  0  0  0  0  0  0  0  0\n",
       "4  v   0  0  0  0  1  0  0  0  0  0"
      ]
     },
     "execution_count": 26,
     "metadata": {},
     "output_type": "execute_result"
    }
   ],
   "source": [
    "#Vary the most frequent label that we have encode\n",
    "import numpy as np\n",
    "for categories in lst_10:\n",
    "    df[categories]=np.where(df['X1']==categories,1,0)\n",
    "df[[\"X1\"]+lst_10].head()"
   ]
  },
  {
   "cell_type": "code",
   "execution_count": 50,
   "metadata": {},
   "outputs": [],
   "source": [
    "#Toget the whole set of dummy variables,for all the categorials variables\n",
    "def one_hot_top_x(df,variable,lst_10):\n",
    "    for categories in lst_10:\n",
    "        df[categories]=np.where(df['X1']==categories,1,0)\n",
    "one_hot_top_x()"
   ]
  },
  {
   "cell_type": "code",
   "execution_count": 28,
   "metadata": {},
   "outputs": [
    {
     "data": {
      "text/plain": [
       "['c', 'f', 'a', 'd', 'g', 'e', 'b']"
      ]
     },
     "execution_count": 28,
     "metadata": {},
     "output_type": "execute_result"
    }
   ],
   "source": [
    "lst_10_X3= [x for x in df.X3.value_counts().sort_values(ascending=False).head(10).index]\n",
    "lst_10_X3"
   ]
  },
  {
   "cell_type": "code",
   "execution_count": 31,
   "metadata": {},
   "outputs": [
    {
     "ename": "NameError",
     "evalue": "name 'variable' is not defined",
     "output_type": "error",
     "traceback": [
      "\u001b[1;31m---------------------------------------------------------------------------\u001b[0m",
      "\u001b[1;31mNameError\u001b[0m                                 Traceback (most recent call last)",
      "\u001b[1;32m<ipython-input-31-5dbd85f16663>\u001b[0m in \u001b[0;36m<module>\u001b[1;34m\u001b[0m\n\u001b[0;32m      3\u001b[0m     \u001b[1;32mfor\u001b[0m \u001b[0mcategories\u001b[0m \u001b[1;32min\u001b[0m \u001b[0mlst_10\u001b[0m\u001b[1;33m:\u001b[0m\u001b[1;33m\u001b[0m\u001b[1;33m\u001b[0m\u001b[0m\n\u001b[0;32m      4\u001b[0m         \u001b[0mdf\u001b[0m\u001b[1;33m[\u001b[0m\u001b[0mcategories\u001b[0m\u001b[1;33m]\u001b[0m\u001b[1;33m=\u001b[0m\u001b[0mnp\u001b[0m\u001b[1;33m.\u001b[0m\u001b[0mwhere\u001b[0m\u001b[1;33m(\u001b[0m\u001b[0mdf\u001b[0m\u001b[1;33m[\u001b[0m\u001b[1;34m'X3'\u001b[0m\u001b[1;33m]\u001b[0m\u001b[1;33m==\u001b[0m\u001b[0mcategories\u001b[0m\u001b[1;33m,\u001b[0m\u001b[1;36m1\u001b[0m\u001b[1;33m,\u001b[0m\u001b[1;36m0\u001b[0m\u001b[1;33m)\u001b[0m\u001b[1;33m\u001b[0m\u001b[1;33m\u001b[0m\u001b[0m\n\u001b[1;32m----> 5\u001b[1;33m \u001b[0mone_hot_top_x\u001b[0m\u001b[1;33m(\u001b[0m\u001b[0mdf\u001b[0m\u001b[1;33m,\u001b[0m\u001b[0mvariable\u001b[0m\u001b[1;33m,\u001b[0m\u001b[0mlst_10_X3\u001b[0m\u001b[1;33m)\u001b[0m\u001b[1;33m\u001b[0m\u001b[1;33m\u001b[0m\u001b[0m\n\u001b[0m",
      "\u001b[1;31mNameError\u001b[0m: name 'variable' is not defined"
     ]
    }
   ],
   "source": [
    "#Toget the whole set of dummy variables,for all the categorials variables\n",
    "def one_hot_top_x(df,variable,lst_10_X3):\n",
    "    for categories in lst_10:\n",
    "        df[categories]=np.where(df['X3']==categories,1,0)\n",
    "one_hot_top_x(df,variable,lst_10_X3)"
   ]
  },
  {
   "cell_type": "code",
   "execution_count": null,
   "metadata": {},
   "outputs": [],
   "source": []
  },
  {
   "cell_type": "raw",
   "metadata": {},
   "source": [
    "Encoding Methodologies:\n",
    ">Better encoding of categorical data can mean better model performance\n",
    "1-Nomial Encoding:\n",
    "             One Hot Encoding##When we have many number of categories make sure that u should not apply one hot encoding\n",
    "             \n",
    "             One hot encoding with multiple categories value\n",
    "             (Apply one hot encoding on top 10 most repeated feature)\n",
    "             Mean Encoding\n",
    "2-ORDINAL ENCODING:\n",
    "               Label Encoding\n",
    "               Target guided ordinal encoding\n",
    "                \n",
    "                   \n",
    ">Encoding is a required pre-processing step when working with categorical data for machine learning algorithms.\n",
    ">How to use ordinal encoding for categorical variables that have a natural rank ordering.\n",
    ">How to use one-hot encoding for categorical variables that do not have a natural rank ordering.        \n",
    "           \n",
    "\n",
    "#There are three common approaches for converting ordinal and categorical variables to numerical values. They are:\n",
    "\n",
    "1-Ordinal Encoding\n",
    "[This ordinal encoding transform is available in the scikit-learn Python machine learning library via the OrdinalEncoder class.]\n",
    "2-One-Hot Encoding\n",
    "3-Dummy Variable Encoding\n",
    "\n"
   ]
  },
  {
   "cell_type": "markdown",
   "metadata": {},
   "source": [
    "# ONE HOT CODING VARAIBLE \n",
    "#ADVANTAGES:"
   ]
  },
  {
   "cell_type": "markdown",
   "metadata": {},
   "source": [
    "#ADVANTAGES:\n",
    ">Straight forward to implement\n",
    ">Doesnot require hours of exploration\n",
    ">Doesnot Require massively the feature space\n"
   ]
  },
  {
   "cell_type": "markdown",
   "metadata": {},
   "source": [
    "#Disadvantages\n",
    ">Donot add any information  that make the variable more  predictive \n",
    ">Donot keep the information of ignored lables\n"
   ]
  },
  {
   "cell_type": "code",
   "execution_count": null,
   "metadata": {},
   "outputs": [],
   "source": []
  },
  {
   "cell_type": "raw",
   "metadata": {},
   "source": [
    "#Handling missing values in categorial Features\n",
    "1-Delete The rows\n",
    "2-Replace with most frequent values\n",
    "3-Apply classified algorithum to predict\n",
    "4-Apply unsupervied ML\n",
    "\n",
    "\n"
   ]
  },
  {
   "cell_type": "code",
   "execution_count": null,
   "metadata": {},
   "outputs": [],
   "source": [
    "# example of a ordinal encoding\n",
    "from numpy import asarray\n",
    "from sklearn.preprocessing import OrdinalEncoder\n",
    "# define data\n",
    "data = asarray([['red'], ['green'], ['blue']])\n",
    "print(data)\n",
    "# define ordinal encoding\n",
    "encoder = OrdinalEncoder()\n",
    "# transform data\n",
    "result = encoder.fit_transform(data)\n",
    "print(result)\n"
   ]
  },
  {
   "cell_type": "code",
   "execution_count": 40,
   "metadata": {},
   "outputs": [
    {
     "name": "stdout",
     "output_type": "stream",
     "text": [
      "[['red']\n",
      " ['green']\n",
      " ['blue']]\n",
      "[[0. 0. 1.]\n",
      " [0. 1. 0.]\n",
      " [1. 0. 0.]]\n"
     ]
    }
   ],
   "source": [
    "#Each bit represents a possible category. If the variable cannot belong to multiple categories at once,\n",
    "#then only one bit in the group can be “on.” This is called one-hot encoding \n",
    "# example of a one hot encoding\n",
    "#This one-hot encoding transform is available in the scikit-learn Python machine learning library via the OneHotEncoder class.\n",
    "from numpy import asarray\n",
    "from sklearn.preprocessing import OneHotEncoder\n",
    "# define data\n",
    "data = asarray([['red'], ['green'], ['blue']])\n",
    "print(data)\n",
    "# define one hot encoding\n",
    "encoder = OneHotEncoder(sparse=False)\n",
    "# transform data\n",
    "onehot = encoder.fit_transform(data)\n",
    "print(onehot)"
   ]
  },
  {
   "cell_type": "markdown",
   "metadata": {},
   "source": [
    "# Dummy Variable Encoding"
   ]
  },
  {
   "cell_type": "code",
   "execution_count": 41,
   "metadata": {},
   "outputs": [
    {
     "name": "stdout",
     "output_type": "stream",
     "text": [
      "[['red']\n",
      " ['green']\n",
      " ['blue']]\n",
      "[[0. 1.]\n",
      " [1. 0.]\n",
      " [0. 0.]]\n"
     ]
    }
   ],
   "source": [
    "#The one-hot encoding creates one binary variable for each category.\n",
    "#hen there are C possible values of the predictor and only C – 1 dummy variables are used, the matrix inverse can be computed and \n",
    "#the contrast method is said to be a full rank parameterization.\n",
    "\n",
    "# example of a dummy variable encoding\n",
    "from numpy import asarray\n",
    "from sklearn.preprocessing import OneHotEncoder\n",
    "# define data\n",
    "data = asarray([['red'], ['green'], ['blue']])\n",
    "print(data)\n",
    "# define one hot encoding\n",
    "encoder = OneHotEncoder(drop='first', sparse=False)#Sparse=True it will return matrix otherwise false return array\n",
    "# transform data\n",
    "onehot = encoder.fit_transform(data)\n",
    "print(onehot)"
   ]
  },
  {
   "cell_type": "markdown",
   "metadata": {},
   "source": [
    "# Breast Cancer Dataset"
   ]
  },
  {
   "cell_type": "code",
   "execution_count": 48,
   "metadata": {},
   "outputs": [
    {
     "name": "stdout",
     "output_type": "stream",
     "text": [
      "Input (286, 9)\n",
      "Output (286,)\n"
     ]
    }
   ],
   "source": [
    "# load and summarize the dataset\n",
    "from pandas import read_csv\n",
    "# define the location of the dataset\n",
    "url = \"https://raw.githubusercontent.com/jbrownlee/Datasets/master/breast-cancer.csv\"\n",
    "# load the dataset\n",
    "dataset = read_csv(url, header=None)\n",
    "# retrieve the array of data\n",
    "data = dataset.values\n",
    "# separate into input and output columns\n",
    "X = data[:, :-1].astype(str)\n",
    "y = data[:, -1].astype(str)\n",
    "# summarize\n",
    "print('Input', X.shape)\n",
    "print('Output', y.shape)"
   ]
  },
  {
   "cell_type": "code",
   "execution_count": 51,
   "metadata": {},
   "outputs": [
    {
     "data": {
      "text/plain": [
       "array([[\"'40-49'\", \"'premeno'\", \"'15-19'\", ..., \"'right'\", \"'left_up'\",\n",
       "        \"'no'\"],\n",
       "       [\"'50-59'\", \"'ge40'\", \"'15-19'\", ..., \"'right'\", \"'central'\",\n",
       "        \"'no'\"],\n",
       "       [\"'50-59'\", \"'ge40'\", \"'35-39'\", ..., \"'left'\", \"'left_low'\",\n",
       "        \"'no'\"],\n",
       "       ...,\n",
       "       [\"'30-39'\", \"'premeno'\", \"'30-34'\", ..., \"'right'\", \"'right_up'\",\n",
       "        \"'no'\"],\n",
       "       [\"'50-59'\", \"'premeno'\", \"'15-19'\", ..., \"'right'\", \"'left_low'\",\n",
       "        \"'no'\"],\n",
       "       [\"'50-59'\", \"'ge40'\", \"'40-44'\", ..., \"'left'\", \"'right_up'\",\n",
       "        \"'no'\"]], dtype='<U11')"
      ]
     },
     "execution_count": 51,
     "metadata": {},
     "output_type": "execute_result"
    }
   ],
   "source": [
    "X"
   ]
  },
  {
   "cell_type": "code",
   "execution_count": 52,
   "metadata": {},
   "outputs": [
    {
     "data": {
      "text/plain": [
       "array([\"'recurrence-events'\", \"'no-recurrence-events'\",\n",
       "       \"'recurrence-events'\", \"'no-recurrence-events'\",\n",
       "       \"'recurrence-events'\", \"'no-recurrence-events'\",\n",
       "       \"'no-recurrence-events'\", \"'no-recurrence-events'\",\n",
       "       \"'no-recurrence-events'\", \"'no-recurrence-events'\",\n",
       "       \"'no-recurrence-events'\", \"'no-recurrence-events'\",\n",
       "       \"'no-recurrence-events'\", \"'no-recurrence-events'\",\n",
       "       \"'recurrence-events'\", \"'no-recurrence-events'\",\n",
       "       \"'no-recurrence-events'\", \"'no-recurrence-events'\",\n",
       "       \"'no-recurrence-events'\", \"'no-recurrence-events'\",\n",
       "       \"'recurrence-events'\", \"'no-recurrence-events'\",\n",
       "       \"'no-recurrence-events'\", \"'no-recurrence-events'\",\n",
       "       \"'recurrence-events'\", \"'no-recurrence-events'\",\n",
       "       \"'no-recurrence-events'\", \"'no-recurrence-events'\",\n",
       "       \"'no-recurrence-events'\", \"'recurrence-events'\",\n",
       "       \"'recurrence-events'\", \"'no-recurrence-events'\",\n",
       "       \"'no-recurrence-events'\", \"'no-recurrence-events'\",\n",
       "       \"'recurrence-events'\", \"'no-recurrence-events'\",\n",
       "       \"'no-recurrence-events'\", \"'no-recurrence-events'\",\n",
       "       \"'no-recurrence-events'\", \"'no-recurrence-events'\",\n",
       "       \"'recurrence-events'\", \"'no-recurrence-events'\",\n",
       "       \"'no-recurrence-events'\", \"'recurrence-events'\",\n",
       "       \"'no-recurrence-events'\", \"'recurrence-events'\",\n",
       "       \"'no-recurrence-events'\", \"'no-recurrence-events'\",\n",
       "       \"'no-recurrence-events'\", \"'no-recurrence-events'\",\n",
       "       \"'recurrence-events'\", \"'no-recurrence-events'\",\n",
       "       \"'no-recurrence-events'\", \"'no-recurrence-events'\",\n",
       "       \"'no-recurrence-events'\", \"'no-recurrence-events'\",\n",
       "       \"'no-recurrence-events'\", \"'no-recurrence-events'\",\n",
       "       \"'no-recurrence-events'\", \"'recurrence-events'\",\n",
       "       \"'recurrence-events'\", \"'no-recurrence-events'\",\n",
       "       \"'no-recurrence-events'\", \"'recurrence-events'\",\n",
       "       \"'recurrence-events'\", \"'no-recurrence-events'\",\n",
       "       \"'no-recurrence-events'\", \"'no-recurrence-events'\",\n",
       "       \"'recurrence-events'\", \"'no-recurrence-events'\",\n",
       "       \"'recurrence-events'\", \"'no-recurrence-events'\",\n",
       "       \"'no-recurrence-events'\", \"'recurrence-events'\",\n",
       "       \"'recurrence-events'\", \"'no-recurrence-events'\",\n",
       "       \"'no-recurrence-events'\", \"'no-recurrence-events'\",\n",
       "       \"'recurrence-events'\", \"'no-recurrence-events'\",\n",
       "       \"'no-recurrence-events'\", \"'no-recurrence-events'\",\n",
       "       \"'no-recurrence-events'\", \"'no-recurrence-events'\",\n",
       "       \"'no-recurrence-events'\", \"'no-recurrence-events'\",\n",
       "       \"'no-recurrence-events'\", \"'no-recurrence-events'\",\n",
       "       \"'no-recurrence-events'\", \"'no-recurrence-events'\",\n",
       "       \"'recurrence-events'\", \"'recurrence-events'\",\n",
       "       \"'recurrence-events'\", \"'no-recurrence-events'\",\n",
       "       \"'no-recurrence-events'\", \"'no-recurrence-events'\",\n",
       "       \"'recurrence-events'\", \"'no-recurrence-events'\",\n",
       "       \"'recurrence-events'\", \"'recurrence-events'\",\n",
       "       \"'recurrence-events'\", \"'recurrence-events'\",\n",
       "       \"'no-recurrence-events'\", \"'no-recurrence-events'\",\n",
       "       \"'no-recurrence-events'\", \"'recurrence-events'\",\n",
       "       \"'recurrence-events'\", \"'recurrence-events'\",\n",
       "       \"'no-recurrence-events'\", \"'no-recurrence-events'\",\n",
       "       \"'no-recurrence-events'\", \"'no-recurrence-events'\",\n",
       "       \"'no-recurrence-events'\", \"'no-recurrence-events'\",\n",
       "       \"'no-recurrence-events'\", \"'no-recurrence-events'\",\n",
       "       \"'recurrence-events'\", \"'no-recurrence-events'\",\n",
       "       \"'no-recurrence-events'\", \"'no-recurrence-events'\",\n",
       "       \"'recurrence-events'\", \"'no-recurrence-events'\",\n",
       "       \"'no-recurrence-events'\", \"'recurrence-events'\",\n",
       "       \"'no-recurrence-events'\", \"'no-recurrence-events'\",\n",
       "       \"'no-recurrence-events'\", \"'no-recurrence-events'\",\n",
       "       \"'recurrence-events'\", \"'no-recurrence-events'\",\n",
       "       \"'no-recurrence-events'\", \"'no-recurrence-events'\",\n",
       "       \"'recurrence-events'\", \"'recurrence-events'\",\n",
       "       \"'no-recurrence-events'\", \"'recurrence-events'\",\n",
       "       \"'no-recurrence-events'\", \"'no-recurrence-events'\",\n",
       "       \"'recurrence-events'\", \"'no-recurrence-events'\",\n",
       "       \"'recurrence-events'\", \"'no-recurrence-events'\",\n",
       "       \"'recurrence-events'\", \"'no-recurrence-events'\",\n",
       "       \"'no-recurrence-events'\", \"'no-recurrence-events'\",\n",
       "       \"'recurrence-events'\", \"'no-recurrence-events'\",\n",
       "       \"'no-recurrence-events'\", \"'no-recurrence-events'\",\n",
       "       \"'recurrence-events'\", \"'no-recurrence-events'\",\n",
       "       \"'no-recurrence-events'\", \"'recurrence-events'\",\n",
       "       \"'no-recurrence-events'\", \"'no-recurrence-events'\",\n",
       "       \"'recurrence-events'\", \"'recurrence-events'\",\n",
       "       \"'no-recurrence-events'\", \"'no-recurrence-events'\",\n",
       "       \"'no-recurrence-events'\", \"'no-recurrence-events'\",\n",
       "       \"'no-recurrence-events'\", \"'no-recurrence-events'\",\n",
       "       \"'recurrence-events'\", \"'recurrence-events'\",\n",
       "       \"'recurrence-events'\", \"'no-recurrence-events'\",\n",
       "       \"'no-recurrence-events'\", \"'no-recurrence-events'\",\n",
       "       \"'recurrence-events'\", \"'recurrence-events'\",\n",
       "       \"'no-recurrence-events'\", \"'recurrence-events'\",\n",
       "       \"'no-recurrence-events'\", \"'no-recurrence-events'\",\n",
       "       \"'no-recurrence-events'\", \"'recurrence-events'\",\n",
       "       \"'recurrence-events'\", \"'no-recurrence-events'\",\n",
       "       \"'no-recurrence-events'\", \"'recurrence-events'\",\n",
       "       \"'no-recurrence-events'\", \"'recurrence-events'\",\n",
       "       \"'no-recurrence-events'\", \"'no-recurrence-events'\",\n",
       "       \"'no-recurrence-events'\", \"'recurrence-events'\",\n",
       "       \"'no-recurrence-events'\", \"'no-recurrence-events'\",\n",
       "       \"'recurrence-events'\", \"'no-recurrence-events'\",\n",
       "       \"'recurrence-events'\", \"'no-recurrence-events'\",\n",
       "       \"'no-recurrence-events'\", \"'no-recurrence-events'\",\n",
       "       \"'recurrence-events'\", \"'no-recurrence-events'\",\n",
       "       \"'no-recurrence-events'\", \"'recurrence-events'\",\n",
       "       \"'no-recurrence-events'\", \"'no-recurrence-events'\",\n",
       "       \"'no-recurrence-events'\", \"'no-recurrence-events'\",\n",
       "       \"'no-recurrence-events'\", \"'recurrence-events'\",\n",
       "       \"'no-recurrence-events'\", \"'recurrence-events'\",\n",
       "       \"'recurrence-events'\", \"'no-recurrence-events'\",\n",
       "       \"'recurrence-events'\", \"'recurrence-events'\",\n",
       "       \"'no-recurrence-events'\", \"'no-recurrence-events'\",\n",
       "       \"'no-recurrence-events'\", \"'no-recurrence-events'\",\n",
       "       \"'recurrence-events'\", \"'no-recurrence-events'\",\n",
       "       \"'recurrence-events'\", \"'no-recurrence-events'\",\n",
       "       \"'no-recurrence-events'\", \"'no-recurrence-events'\",\n",
       "       \"'no-recurrence-events'\", \"'no-recurrence-events'\",\n",
       "       \"'recurrence-events'\", \"'no-recurrence-events'\",\n",
       "       \"'no-recurrence-events'\", \"'no-recurrence-events'\",\n",
       "       \"'no-recurrence-events'\", \"'recurrence-events'\",\n",
       "       \"'no-recurrence-events'\", \"'no-recurrence-events'\",\n",
       "       \"'no-recurrence-events'\", \"'no-recurrence-events'\",\n",
       "       \"'no-recurrence-events'\", \"'recurrence-events'\",\n",
       "       \"'no-recurrence-events'\", \"'recurrence-events'\",\n",
       "       \"'recurrence-events'\", \"'recurrence-events'\",\n",
       "       \"'recurrence-events'\", \"'no-recurrence-events'\",\n",
       "       \"'no-recurrence-events'\", \"'no-recurrence-events'\",\n",
       "       \"'no-recurrence-events'\", \"'no-recurrence-events'\",\n",
       "       \"'no-recurrence-events'\", \"'no-recurrence-events'\",\n",
       "       \"'no-recurrence-events'\", \"'no-recurrence-events'\",\n",
       "       \"'recurrence-events'\", \"'no-recurrence-events'\",\n",
       "       \"'no-recurrence-events'\", \"'no-recurrence-events'\",\n",
       "       \"'no-recurrence-events'\", \"'recurrence-events'\",\n",
       "       \"'no-recurrence-events'\", \"'recurrence-events'\",\n",
       "       \"'no-recurrence-events'\", \"'recurrence-events'\",\n",
       "       \"'no-recurrence-events'\", \"'no-recurrence-events'\",\n",
       "       \"'no-recurrence-events'\", \"'recurrence-events'\",\n",
       "       \"'no-recurrence-events'\", \"'no-recurrence-events'\",\n",
       "       \"'no-recurrence-events'\", \"'recurrence-events'\",\n",
       "       \"'no-recurrence-events'\", \"'no-recurrence-events'\",\n",
       "       \"'recurrence-events'\", \"'recurrence-events'\",\n",
       "       \"'no-recurrence-events'\", \"'no-recurrence-events'\",\n",
       "       \"'no-recurrence-events'\", \"'no-recurrence-events'\",\n",
       "       \"'no-recurrence-events'\", \"'no-recurrence-events'\",\n",
       "       \"'no-recurrence-events'\", \"'no-recurrence-events'\",\n",
       "       \"'no-recurrence-events'\", \"'no-recurrence-events'\",\n",
       "       \"'no-recurrence-events'\", \"'no-recurrence-events'\",\n",
       "       \"'no-recurrence-events'\", \"'no-recurrence-events'\"], dtype='<U22')"
      ]
     },
     "execution_count": 52,
     "metadata": {},
     "output_type": "execute_result"
    }
   ],
   "source": [
    "y"
   ]
  },
  {
   "cell_type": "markdown",
   "metadata": {},
   "source": [
    "# OrdinalEncoder Transform"
   ]
  },
  {
   "cell_type": "code",
   "execution_count": 1,
   "metadata": {},
   "outputs": [],
   "source": [
    "#An ordinal encoding involves mapping each unique label to an integer value"
   ]
  },
  {
   "cell_type": "code",
   "execution_count": null,
   "metadata": {},
   "outputs": [],
   "source": [
    "# ordinal encode the breast cancer dataset\n",
    "from pandas import read_csv\n",
    "from sklearn.preprocessing import LabelEncoder\n",
    "from sklearn.preprocessing import OrdinalEncoder\n",
    "# define the location of the dataset\n",
    "url = \"https://raw.githubusercontent.com/jbrownlee/Datasets/master/breast-cancer.csv\"\n",
    "# load the dataset\n",
    "dataset = read_csv(url, header=None)\n",
    "# retrieve the array of data\n",
    "data = dataset.values\n",
    "# separate into input and output columns\n",
    "X = data[:, :-1].astype(str)\n",
    "y = data[:, -1].astype(str)\n",
    "# ordinal encode input variables\n",
    "ordinal_encoder = OrdinalEncoder()\n",
    "X = ordinal_encoder.fit_transform(X)\n",
    "# ordinal encode target variable\n",
    "label_encoder = LabelEncoder()\n",
    "y = label_encoder.fit_transform(y)\n",
    "# summarize the transformed data\n",
    "print('Input', X.shape)\n",
    "print(X[:5, :])\n",
    "print('Output', y.shape)\n",
    "print(y[:5])"
   ]
  },
  {
   "cell_type": "code",
   "execution_count": 6,
   "metadata": {},
   "outputs": [],
   "source": [
    "import pandas as pd\n",
    "from pandas import read_csv\n",
    "from sklearn.preprocessing import LabelEncoder\n",
    "from sklearn.preprocessing import OrdinalEncoder\n",
    "# define the location of the dataset\n",
    "url = \"https://raw.githubusercontent.com/jbrownlee/Datasets/master/breast-cancer.csv\"\n",
    "# load the dataset\n",
    "dataset = read_csv(url, header=None)\n",
    "data=dataset.values\n",
    "X = data[:, :-1].astype(str)\n",
    "y = data[:, -1].astype(str)\n",
    "ordinal_encoder = OrdinalEncoder()\n",
    "X = ordinal_encoder.fit_transform(X)\n",
    "# ordinal encode target variable\n",
    "label_encoder = LabelEncoder()\n",
    "y = label_encoder.fit_transform(y)\n",
    "\n"
   ]
  },
  {
   "cell_type": "code",
   "execution_count": 14,
   "metadata": {},
   "outputs": [
    {
     "data": {
      "text/plain": [
       "array([[ 3.,  0.,  4., ...,  0.,  3.,  0.],\n",
       "       [ 1.,  2.,  9., ...,  0.,  3.,  0.],\n",
       "       [ 3.,  2., 10., ...,  1.,  2.,  1.],\n",
       "       ...,\n",
       "       [ 4.,  0.,  1., ...,  1.,  1.,  0.],\n",
       "       [ 4.,  0.,  7., ...,  1.,  1.,  0.],\n",
       "       [ 4.,  0.,  8., ...,  0.,  0.,  0.]])"
      ]
     },
     "execution_count": 14,
     "metadata": {},
     "output_type": "execute_result"
    }
   ],
   "source": [
    "ordinal_encoder.transform(X_train)\n",
    "#X_test = ordinal_encoder.transform(X_test)"
   ]
  },
  {
   "cell_type": "code",
   "execution_count": 15,
   "metadata": {},
   "outputs": [
    {
     "name": "stdout",
     "output_type": "stream",
     "text": [
      "Accuracy: 73.68\n"
     ]
    },
    {
     "name": "stderr",
     "output_type": "stream",
     "text": [
      "c:\\users\\earabmo\\appdata\\local\\programs\\python\\python38-32\\lib\\site-packages\\sklearn\\linear_model\\logistic.py:430: FutureWarning: Default solver will be changed to 'lbfgs' in 0.22. Specify a solver to silence this warning.\n",
      "  warnings.warn(\"Default solver will be changed to 'lbfgs' in 0.22. \"\n"
     ]
    }
   ],
   "source": [
    "# evaluate logistic regression on the breast cancer dataset with an ordinal encoding\n",
    "from numpy import mean\n",
    "from numpy import std\n",
    "from pandas import read_csv\n",
    "from sklearn.model_selection import train_test_split\n",
    "from sklearn.linear_model import LogisticRegression\n",
    "from sklearn.preprocessing import LabelEncoder\n",
    "from sklearn.preprocessing import OrdinalEncoder\n",
    "from sklearn.metrics import accuracy_score\n",
    "# define the location of the dataset\n",
    "url = \"https://raw.githubusercontent.com/jbrownlee/Datasets/master/breast-cancer.csv\"\n",
    "# load the dataset\n",
    "dataset = read_csv(url, header=None)\n",
    "# retrieve the array of data\n",
    "data = dataset.values\n",
    "# separate into input and output columns\n",
    "X = data[:, :-1].astype(str)\n",
    "y = data[:, -1].astype(str)\n",
    "# split the dataset into train and test sets\n",
    "X_train, X_test, y_train, y_test = train_test_split(X, y, test_size=0.33, random_state=1)\n",
    "# ordinal encode input variables\n",
    "ordinal_encoder = OrdinalEncoder()\n",
    "ordinal_encoder.fit(X_train)\n",
    "X_train = ordinal_encoder.transform(X_train)\n",
    "X_test = ordinal_encoder.transform(X_test)\n",
    "# ordinal encode target variable\n",
    "label_encoder = LabelEncoder()\n",
    "label_encoder.fit(y_train)\n",
    "y_train = label_encoder.transform(y_train)\n",
    "y_test = label_encoder.transform(y_test)\n",
    "# define the model\n",
    "model = LogisticRegression()\n",
    "# fit on the training set\n",
    "model.fit(X_train, y_train)\n",
    "# predict on test set\n",
    "yhat = model.predict(X_test)\n",
    "# evaluate predictions\n",
    "accuracy = accuracy_score(y_test, yhat)\n",
    "print('Accuracy: %.2f' % (accuracy*100))"
   ]
  },
  {
   "cell_type": "markdown",
   "metadata": {},
   "source": [
    "# OneHotEncoder Transform"
   ]
  },
  {
   "cell_type": "code",
   "execution_count": null,
   "metadata": {},
   "outputs": [],
   "source": [
    "# evaluate logistic regression on the breast cancer dataset with an one-hot encoding\n",
    "from numpy import mean\n",
    "from numpy import std\n",
    "from pandas import read_csv\n",
    "from sklearn.model_selection import train_test_split\n",
    "from sklearn.linear_model import LogisticRegression\n",
    "from sklearn.preprocessing import LabelEncoder\n",
    "from sklearn.preprocessing import OneHotEncoder\n",
    "from sklearn.metrics import accuracy_score\n",
    "# define the location of the dataset\n",
    "url = \"https://raw.githubusercontent.com/jbrownlee/Datasets/master/breast-cancer.csv\"\n",
    "# load the dataset\n",
    "dataset = read_csv(url, header=None)\n",
    "# retrieve the array of data\n",
    "data = dataset.values\n",
    "# separate into input and output columns\n",
    "X = data[:, :-1].astype(str)\n",
    "y = data[:, -1].astype(str)\n",
    "# split the dataset into train and test sets\n",
    "X_train, X_test, y_train, y_test = train_test_split(X, y, test_size=0.33, random_state=1)\n",
    "# one-hot encode input variables\n",
    "onehot_encoder = OneHotEncoder()\n",
    "onehot_encoder.fit(X_train)\n",
    "X_train = onehot_encoder.transform(X_train)\n",
    "X_test = onehot_encoder.transform(X_test)\n",
    "# ordinal encode target variable\n",
    "label_encoder = LabelEncoder()\n",
    "label_encoder.fit(y_train)\n",
    "y_train = label_encoder.transform(y_train)\n",
    "y_test = label_encoder.transform(y_test)\n",
    "# define the model\n",
    "model = LogisticRegression()\n",
    "# fit on the training set\n",
    "model.fit(X_train, y_train)\n",
    "# predict on test set\n",
    "yhat = model.predict(X_test)\n",
    "# evaluate predictions\n",
    "accuracy = accuracy_score(y_test, yhat)\n",
    "print('Accuracy: %.2f' % (accuracy*100))"
   ]
  }
 ],
 "metadata": {
  "kernelspec": {
   "display_name": "Python 3",
   "language": "python",
   "name": "python3"
  },
  "language_info": {
   "codemirror_mode": {
    "name": "ipython",
    "version": 3
   },
   "file_extension": ".py",
   "mimetype": "text/x-python",
   "name": "python",
   "nbconvert_exporter": "python",
   "pygments_lexer": "ipython3",
   "version": "3.8.1"
  }
 },
 "nbformat": 4,
 "nbformat_minor": 4
}
